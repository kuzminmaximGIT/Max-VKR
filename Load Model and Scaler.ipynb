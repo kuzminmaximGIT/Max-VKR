{
 "cells": [
  {
   "cell_type": "code",
   "execution_count": 1,
   "id": "ff5b62b0",
   "metadata": {},
   "outputs": [],
   "source": [
    "# load model and scaler and make predictions on new data\n",
    "from sklearn.metrics import accuracy_score\n",
    "from sklearn.preprocessing import StandardScaler\n",
    "from keras.models import Sequential\n",
    "from keras.layers import Dense, Activation, Dropout\n",
    "import tensorflow as tf\n",
    "from tensorflow import keras\n",
    "from tensorflow.keras import layers\n",
    "import numpy as np\n",
    "import pandas as pd\n",
    "from sklearn import preprocessing\n",
    "from sklearn.preprocessing import MinMaxScaler\n",
    "import joblib"
   ]
  },
  {
   "cell_type": "code",
   "execution_count": 2,
   "id": "5bba51e6",
   "metadata": {
    "scrolled": true
   },
   "outputs": [],
   "source": [
    "#scaler = load(open('C:/Users/Kuzmins/Documents/Jupiter/VKR/scaler.pkl', 'rb'))\n",
    "\n",
    "model = keras.models.load_model('C:/Users/Kuzmins/Documents/Jupiter/VKR/models/VKR_mlp_var1')\n",
    "scaler = joblib.load('scaler.pkl')"
   ]
  },
  {
   "cell_type": "code",
   "execution_count": 3,
   "id": "6b38c4a2",
   "metadata": {},
   "outputs": [
    {
     "name": "stdout",
     "output_type": "stream",
     "text": [
      "Введите параметры:\n",
      "Plotnost_kg/m3\n",
      "1\n",
      "Modul_Uprugosti_GPa\n",
      "1\n",
      "Kolichestvo_napolnitela_m%\n",
      "1\n",
      "Soderjanie_epoxidnih_grupp_%_2\n",
      "1\n",
      "Temp_vspishki_C_2\n",
      "1\n",
      "Poverhnostnaia_plotnost_g/m2\n",
      "1\n",
      "Potreblenie_smoli_g/m2\n",
      "1\n",
      "Ugol_nashivki_grad\n",
      "1\n",
      "Shag_nashivki\n",
      "1\n",
      "Plotnost_nashivki\n",
      "1\n"
     ]
    }
   ],
   "source": [
    "#Ввод данных пользователем dfuser\n",
    "#dfuser = dfp.copy(deep = True)\n",
    "#dfuser = dfuser.reset_index()\n",
    "#dfuser = dfuser.drop(labels=range(1, 936), axis=0)\n",
    "#dfuser.drop(['index'], inplace=True, axis=1)\n",
    "\n",
    "dfuser = pd.DataFrame({'Sootnoshenie_Matrix_napolnitel' : [0], 'Plotnost_kg/m3' : [0], \n",
    "            'Modul_Uprugosti_GPa' : [0], 'Kolichestvo_napolnitela_m%' : [0], \n",
    "            'Soderjanie_epoxidnih_grupp_%_2' : [0], 'Temp_vspishki_C_2' : [0], \n",
    "            'Poverhnostnaia_plotnost_g/m2' : [0], 'Modul_uprugosti_pri_rastiajenii_GPa' : [0], \n",
    "            'Prochnost_pri_rastiajenii_Mpa' : [0], 'Potreblenie_smoli_g/m2' : [0], \n",
    "            'Ugol_nashivki_grad' : [0], 'Shag_nashivki' : [0], 'Plotnost_nashivki' : [0]})\n",
    "\n",
    "col = dfuser.columns\n",
    "\n",
    "print('Введите параметры:') \n",
    "a = 0 \n",
    "for i in col: \n",
    "    if a != 0 and a != 7 and a !=8: \n",
    "        print(col[a]) \n",
    "        y = input() \n",
    "        dfuser[col[a]].values[0] = float(y) \n",
    "    else: \n",
    "        dfuser[col[a]].values[0] = 0 \n",
    "    a+=1\n",
    "    if a == 13:\n",
    "        break\n",
    "    "
   ]
  },
  {
   "cell_type": "code",
   "execution_count": 4,
   "id": "b86fa528",
   "metadata": {},
   "outputs": [
    {
     "data": {
      "text/html": [
       "<div>\n",
       "<style scoped>\n",
       "    .dataframe tbody tr th:only-of-type {\n",
       "        vertical-align: middle;\n",
       "    }\n",
       "\n",
       "    .dataframe tbody tr th {\n",
       "        vertical-align: top;\n",
       "    }\n",
       "\n",
       "    .dataframe thead th {\n",
       "        text-align: right;\n",
       "    }\n",
       "</style>\n",
       "<table border=\"1\" class=\"dataframe\">\n",
       "  <thead>\n",
       "    <tr style=\"text-align: right;\">\n",
       "      <th></th>\n",
       "      <th>Sootnoshenie_Matrix_napolnitel</th>\n",
       "      <th>Plotnost_kg/m3</th>\n",
       "      <th>Modul_Uprugosti_GPa</th>\n",
       "      <th>Kolichestvo_napolnitela_m%</th>\n",
       "      <th>Soderjanie_epoxidnih_grupp_%_2</th>\n",
       "      <th>Temp_vspishki_C_2</th>\n",
       "      <th>Poverhnostnaia_plotnost_g/m2</th>\n",
       "      <th>Modul_uprugosti_pri_rastiajenii_GPa</th>\n",
       "      <th>Prochnost_pri_rastiajenii_Mpa</th>\n",
       "      <th>Potreblenie_smoli_g/m2</th>\n",
       "      <th>Ugol_nashivki_grad</th>\n",
       "      <th>Shag_nashivki</th>\n",
       "      <th>Plotnost_nashivki</th>\n",
       "    </tr>\n",
       "  </thead>\n",
       "  <tbody>\n",
       "    <tr>\n",
       "      <th>0</th>\n",
       "      <td>0</td>\n",
       "      <td>1</td>\n",
       "      <td>1</td>\n",
       "      <td>1</td>\n",
       "      <td>1</td>\n",
       "      <td>1</td>\n",
       "      <td>1</td>\n",
       "      <td>0</td>\n",
       "      <td>0</td>\n",
       "      <td>1</td>\n",
       "      <td>1</td>\n",
       "      <td>1</td>\n",
       "      <td>1</td>\n",
       "    </tr>\n",
       "  </tbody>\n",
       "</table>\n",
       "</div>"
      ],
      "text/plain": [
       "   Sootnoshenie_Matrix_napolnitel  Plotnost_kg/m3  Modul_Uprugosti_GPa  \\\n",
       "0                               0               1                    1   \n",
       "\n",
       "   Kolichestvo_napolnitela_m%  Soderjanie_epoxidnih_grupp_%_2  \\\n",
       "0                           1                               1   \n",
       "\n",
       "   Temp_vspishki_C_2  Poverhnostnaia_plotnost_g/m2  \\\n",
       "0                  1                             1   \n",
       "\n",
       "   Modul_uprugosti_pri_rastiajenii_GPa  Prochnost_pri_rastiajenii_Mpa  \\\n",
       "0                                    0                              0   \n",
       "\n",
       "   Potreblenie_smoli_g/m2  Ugol_nashivki_grad  Shag_nashivki  \\\n",
       "0                       1                   1              1   \n",
       "\n",
       "   Plotnost_nashivki  \n",
       "0                  1  "
      ]
     },
     "execution_count": 4,
     "metadata": {},
     "output_type": "execute_result"
    }
   ],
   "source": [
    "dfuser"
   ]
  },
  {
   "cell_type": "code",
   "execution_count": 5,
   "id": "48bf5d63",
   "metadata": {
    "scrolled": true
   },
   "outputs": [
    {
     "data": {
      "text/html": [
       "<div>\n",
       "<style scoped>\n",
       "    .dataframe tbody tr th:only-of-type {\n",
       "        vertical-align: middle;\n",
       "    }\n",
       "\n",
       "    .dataframe tbody tr th {\n",
       "        vertical-align: top;\n",
       "    }\n",
       "\n",
       "    .dataframe thead th {\n",
       "        text-align: right;\n",
       "    }\n",
       "</style>\n",
       "<table border=\"1\" class=\"dataframe\">\n",
       "  <thead>\n",
       "    <tr style=\"text-align: right;\">\n",
       "      <th></th>\n",
       "      <th>Plotnost_kg/m3</th>\n",
       "      <th>Modul_Uprugosti_GPa</th>\n",
       "      <th>Kolichestvo_napolnitela_m%</th>\n",
       "      <th>Soderjanie_epoxidnih_grupp_%_2</th>\n",
       "      <th>Temp_vspishki_C_2</th>\n",
       "      <th>Poverhnostnaia_plotnost_g/m2</th>\n",
       "      <th>Potreblenie_smoli_g/m2</th>\n",
       "      <th>Ugol_nashivki_grad</th>\n",
       "      <th>Shag_nashivki</th>\n",
       "      <th>Plotnost_nashivki</th>\n",
       "    </tr>\n",
       "  </thead>\n",
       "  <tbody>\n",
       "    <tr>\n",
       "      <th>0</th>\n",
       "      <td>-4.729681</td>\n",
       "      <td>-0.000872</td>\n",
       "      <td>-0.263122</td>\n",
       "      <td>-1.108354</td>\n",
       "      <td>-0.862989</td>\n",
       "      <td>0.000307</td>\n",
       "      <td>-0.21223</td>\n",
       "      <td>0.011111</td>\n",
       "      <td>0.070272</td>\n",
       "      <td>-0.447279</td>\n",
       "    </tr>\n",
       "  </tbody>\n",
       "</table>\n",
       "</div>"
      ],
      "text/plain": [
       "   Plotnost_kg/m3  Modul_Uprugosti_GPa  Kolichestvo_napolnitela_m%  \\\n",
       "0       -4.729681            -0.000872                   -0.263122   \n",
       "\n",
       "   Soderjanie_epoxidnih_grupp_%_2  Temp_vspishki_C_2  \\\n",
       "0                       -1.108354          -0.862989   \n",
       "\n",
       "   Poverhnostnaia_plotnost_g/m2  Potreblenie_smoli_g/m2  Ugol_nashivki_grad  \\\n",
       "0                      0.000307                -0.21223            0.011111   \n",
       "\n",
       "   Shag_nashivki  Plotnost_nashivki  \n",
       "0       0.070272          -0.447279  "
      ]
     },
     "execution_count": 5,
     "metadata": {},
     "output_type": "execute_result"
    }
   ],
   "source": [
    "#Нормализация with MinMaxScaler\n",
    "\n",
    "modified = scaler.transform(dfuser)\n",
    "dfuser_modified = pd.DataFrame(modified, columns = col)\n",
    "dfuser_modified.drop(['Sootnoshenie_Matrix_napolnitel', 'Modul_uprugosti_pri_rastiajenii_GPa', 'Prochnost_pri_rastiajenii_Mpa'], inplace=True, axis=1)\n",
    "dfuser_modified"
   ]
  },
  {
   "cell_type": "code",
   "execution_count": 6,
   "id": "6a8c21b1",
   "metadata": {},
   "outputs": [],
   "source": [
    "pred = model.predict(dfuser_modified)\n",
    "    \n",
    "pred_inversed = pd.DataFrame([])\n",
    "pred_inversed.at[0,0] = float(pred[0][0])\n",
    "\n",
    "for i in range(1, 13):\n",
    "    p = 0\n",
    "    pred_inversed.at[0,i] = float(p)\n",
    "    pred_inversed.at[0,7] = float(pred[0][1])\n",
    "    pred_inversed.at[0,8] = float(pred[0][2])\n",
    "    \n",
    "Y_trans = scaler.inverse_transform(pred_inversed)"
   ]
  },
  {
   "cell_type": "code",
   "execution_count": 7,
   "id": "ef198706",
   "metadata": {},
   "outputs": [],
   "source": [
    "def predict(dfuser):\n",
    "    model = keras.models.load_model('C:/Users/Kuzmins/Documents/Jupiter/VKR/models/VKR_mlp_var1')\n",
    "    scaler = joblib.load('scaler.pkl')\n",
    "    modified = scaler.transform(dfuser)\n",
    "            \n",
    "    pred = model.predict(dfuser_modified)\n",
    "    \n",
    "    pred_inversed = pd.DataFrame([])\n",
    "    pred_inversed.at[0,0] = float(pred[0][0])\n",
    "\n",
    "    for i in range(1, 13):\n",
    "        p = 0\n",
    "        pred_inversed.at[0,i] = float(p)\n",
    "    pred_inversed.at[0,7] = float(pred[0][1])\n",
    "    pred_inversed.at[0,8] = float(pred[0][2])\n",
    "    \n",
    "    Y_trans = scaler.inverse_transform(pred_inversed)\n",
    "    \n",
    "    return Y_trans"
   ]
  },
  {
   "cell_type": "code",
   "execution_count": null,
   "id": "4e4fbaa4",
   "metadata": {},
   "outputs": [],
   "source": []
  },
  {
   "cell_type": "code",
   "execution_count": 8,
   "id": "4dcfefe1",
   "metadata": {},
   "outputs": [
    {
     "name": "stdout",
     "output_type": "stream",
     "text": [
      "1.892658435981896 65.55333591 1250.3928019999996\n"
     ]
    }
   ],
   "source": [
    "#Возвращает предсказанное значание (в размерности до нормализации)\n",
    "Y_trans = scaler.inverse_transform(pred_inversed)\n",
    "\n",
    "print(Y_trans[0,0], Y_trans[0,7], Y_trans[0,8])"
   ]
  },
  {
   "cell_type": "code",
   "execution_count": 9,
   "id": "5c389af2",
   "metadata": {},
   "outputs": [
    {
     "name": "stdout",
     "output_type": "stream",
     "text": [
      "Model: \"sequential_100\"\n",
      "_________________________________________________________________\n",
      "Layer (type)                 Output Shape              Param #   \n",
      "=================================================================\n",
      "dense_253 (Dense)            (None, 128)               1408      \n",
      "_________________________________________________________________\n",
      "dense_254 (Dense)            (None, 64)                8256      \n",
      "_________________________________________________________________\n",
      "dense_255 (Dense)            (None, 16)                1040      \n",
      "_________________________________________________________________\n",
      "dense_256 (Dense)            (None, 3)                 51        \n",
      "_________________________________________________________________\n",
      "dropout_100 (Dropout)        (None, 3)                 0         \n",
      "_________________________________________________________________\n",
      "dense_257 (Dense)            (None, 3)                 12        \n",
      "=================================================================\n",
      "Total params: 10,767\n",
      "Trainable params: 10,767\n",
      "Non-trainable params: 0\n",
      "_________________________________________________________________\n",
      "None\n"
     ]
    }
   ],
   "source": [
    "print(model.summary())"
   ]
  }
 ],
 "metadata": {
  "kernelspec": {
   "display_name": "Python 3",
   "language": "python",
   "name": "python3"
  },
  "language_info": {
   "codemirror_mode": {
    "name": "ipython",
    "version": 3
   },
   "file_extension": ".py",
   "mimetype": "text/x-python",
   "name": "python",
   "nbconvert_exporter": "python",
   "pygments_lexer": "ipython3",
   "version": "3.6.13"
  }
 },
 "nbformat": 4,
 "nbformat_minor": 5
}
